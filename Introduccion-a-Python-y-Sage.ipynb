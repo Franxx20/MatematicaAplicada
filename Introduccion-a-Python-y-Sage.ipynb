{
 "cells": [
  {
   "cell_type": "markdown",
   "metadata": {
    "id": "ffM_X_8B3Y65"
   },
   "source": [
    "# Tutorial Python\n",
    "Este tutorial fue originalmente desarrollado por los docentes de la materia Fundamentos de la Ciencia de Datos e Inteligencia de Negocios de la Universidad Nacional de La Matanza. Esta es una adaptación para la materia de Criptografía."
   ]
  },
  {
   "cell_type": "markdown",
   "metadata": {
    "id": "GG8O-3oT3Y67"
   },
   "source": [
    "## 1. ¿Qué es Jupyter Notebooks?\n",
    "\n",
    "[Jupyter Notebooks](http://jupyter.org/) es una aplicación cliente-servidor con un frontend en html, que permite la ejecución remota e interactiva de código desde el navegador. Originalmente era exclusivo de Python (IPython Notebooks), pero se generalizó a [otros lenguajes](https://github.com/jupyter/jupyter/wiki/Jupyter-kernels)\n",
    "\n",
    "No es una aplicación destinada al remplazo de un IDE, sino que es particularmente útil para:\n",
    "- Presentaciones y tutoriales interactivos\n",
    "- Prototipado rápido y visualizaciones\n",
    "- Ejecución de código en máquinas remotas y/o en clúster\n",
    "\n",
    "Para hacer el trabajo más simple e interactivo, los notebooks incorporan resaltado de sintaxis, ayuda, renderizado de markdown, etc. Jupyter Notebooks permite integrar la programación con visualización, ahorrando tiempo al estar cambiando entre un editor de texto, terminal y pantalla de visualización.\n",
    "\n",
    "En este caso metimos Jupyter Notebooks en un container de Docker"
   ]
  },
  {
   "cell_type": "markdown",
   "metadata": {},
   "source": [
    "## 2. ¿Qué es Docker?\n",
    "Los containers de [Docker](https://www.docker.com/) nos permiten encapsular aplicaciones enteras (como Jupyter Notebooks) junto con sus dependencias. En este caso incluimos todo lo necesario para resolver los ejercicios de Cryptohack, es decir, varios kernels como Python 3 y Sage 9, y dependencias como PyCryptodome y gmpy2. Esto nos permite ejecutar nuestra aplicación en distintos sistemas operativos.\n",
    "Cuando ejecutamos el comando `docker run -p 127.0.0.1:8888:8888 -it hyperreality/cryptohack:latest`, lo que hicimos es descargar la imagen publicada en [Docker Hub](https://www.docker.com/products/docker-hub). Para ejecutarla localmente vamos a usar [Docker Desktop](https://www.docker.com/products/docker-desktop)."
   ]
  },
  {
   "cell_type": "markdown",
   "metadata": {
    "id": "rdI-Kgh-3Y7F"
   },
   "source": [
    "## 3. ¿Qué es Python?\n",
    "\n",
    "Python es un lenguaje interpretado de tipos dinámicos. Es un lenguaje de uso general. Se puede usar en forma imperativa u orientada a objetos; teóricamente también dentro del paradigma de programación funcional, pero con ciertas limitaciones. Python hace hincapié en una sintaxis que favorezca un código legible y prolijo.\n",
    "### Tipos de datos utilizados en Python\n",
    "Los tipos de datos más comunes son:\n",
    "\n",
    "    int       : entero.\n",
    "    long      : entero long.\n",
    "    float     : coma flotante.\n",
    "    complex   : complejo.\n",
    "    bool      : booleano.\n",
    "    str       : cadena de caracteres.\n",
    "    unicode   : cadena de caracteres Unicode.\n",
    "    list      : lista.\n",
    "    dict      : diccionario.\n",
    "    tuple     : tupla.\n",
    "    range     : rango mutable.\n",
    "    xrange    : rango inmutable.\n",
    "    set       : conjunto.\n",
    "    frozenset : conjunto inmutable.\n",
    "    \n",
    "###  Definición de variables\n",
    "\n",
    "Las variables se definen con un signo = y no se declara su tipo al crearla. Veamos algunos ejemplos:"
   ]
  },
  {
   "cell_type": "code",
   "execution_count": null,
   "metadata": {
    "id": "YwC_0hco3Y7K"
   },
   "outputs": [],
   "source": [
    "entero = 10\n",
    "punto_flotante = 10.4\n",
    "punto_flotante_alternativa = 10.\n",
    "booleano = True\n",
    "cadena = \"estos es una cadena de texto\"\n",
    "lista = [\"elemento1\", \"elemento2\", 1236]\n",
    "diccionario = {\"llave1\": 1, \"llave2\": 2}"
   ]
  },
  {
   "cell_type": "code",
   "execution_count": null,
   "metadata": {
    "colab": {
     "base_uri": "https://localhost:8080/",
     "height": 34
    },
    "id": "WeNvE3LC3Y7N",
    "outputId": "9513b037-a6ad-4214-9500-54a51bf9d880"
   },
   "outputs": [],
   "source": [
    "# Veamos cuál es el TIPO del dato que le pasamos como \"argumento\"\n",
    "type(2/1)"
   ]
  },
  {
   "cell_type": "code",
   "execution_count": null,
   "metadata": {
    "colab": {
     "base_uri": "https://localhost:8080/",
     "height": 34
    },
    "id": "YF0nxwjiJCcg",
    "outputId": "ce42882f-1e22-4b7d-8597-c5ae844a7694"
   },
   "outputs": [],
   "source": [
    "type(entero)"
   ]
  },
  {
   "cell_type": "code",
   "execution_count": null,
   "metadata": {
    "colab": {
     "base_uri": "https://localhost:8080/",
     "height": 34
    },
    "id": "qn-TiX4qJCcl",
    "outputId": "8caffeca-ea36-4f2b-c9d9-7957db5eb0a8"
   },
   "outputs": [],
   "source": [
    "type(cadena)"
   ]
  },
  {
   "cell_type": "code",
   "execution_count": null,
   "metadata": {
    "colab": {
     "base_uri": "https://localhost:8080/",
     "height": 185
    },
    "id": "JVBQMJEy3Y7Q",
    "outputId": "2ef152ee-7bdd-442b-f658-09e087e2be86"
   },
   "outputs": [],
   "source": [
    "# Mostrar una tabla con información detallada de todas las variables.\n",
    "%whos"
   ]
  },
  {
   "cell_type": "code",
   "execution_count": null,
   "metadata": {
    "colab": {
     "base_uri": "https://localhost:8080/",
     "height": 34
    },
    "id": "E7EVPazfJCc1",
    "outputId": "97bfcefb-4e4c-4934-a115-b0eeb27ad32c"
   },
   "outputs": [],
   "source": [
    "# Cambiar el valor de una variable\n",
    "variable = \"esta es una cadena de texto\"\n",
    "variable"
   ]
  },
  {
   "cell_type": "code",
   "execution_count": null,
   "metadata": {
    "colab": {
     "base_uri": "https://localhost:8080/",
     "height": 34
    },
    "id": "2KmdKzMyJCc6",
    "outputId": "7f0708ae-c70a-4746-e97d-4aaff2cb7ed2"
   },
   "outputs": [],
   "source": [
    "variable = 3\n",
    "variable"
   ]
  },
  {
   "cell_type": "markdown",
   "metadata": {
    "id": "AuYuEKOQJCc9"
   },
   "source": [
    "### Operadores aritméticos\n",
    "Los valores numéricos son el resultado de una serie de operadores aritméticos y matemáticos:"
   ]
  },
  {
   "cell_type": "code",
   "execution_count": null,
   "metadata": {
    "colab": {
     "base_uri": "https://localhost:8080/",
     "height": 34
    },
    "id": "Q3A0ZDJxJCc9",
    "outputId": "87b52f59-f467-4e6f-c12e-224acbd68454"
   },
   "outputs": [],
   "source": [
    "3 + 2  # suma"
   ]
  },
  {
   "cell_type": "code",
   "execution_count": null,
   "metadata": {
    "colab": {
     "base_uri": "https://localhost:8080/",
     "height": 34
    },
    "id": "zvyRZb8BJCdC",
    "outputId": "ab68547f-f9d1-4756-95d8-90fb0f6b2516"
   },
   "outputs": [],
   "source": [
    "4 - 7  # resta"
   ]
  },
  {
   "cell_type": "code",
   "execution_count": null,
   "metadata": {
    "colab": {
     "base_uri": "https://localhost:8080/",
     "height": 34
    },
    "id": "N_Dw0LGfJCdG",
    "outputId": "51563a6f-80f1-430c-9279-37bfef225bc8"
   },
   "outputs": [],
   "source": [
    "-10  # negación"
   ]
  },
  {
   "cell_type": "code",
   "execution_count": null,
   "metadata": {
    "colab": {
     "base_uri": "https://localhost:8080/",
     "height": 34
    },
    "id": "Q4WdaUZfJCdL",
    "outputId": "ea2e6d63-a64d-4988-9605-bf532faf6001"
   },
   "outputs": [],
   "source": [
    "2 * 3 # multiplicación"
   ]
  },
  {
   "cell_type": "code",
   "execution_count": null,
   "metadata": {
    "colab": {
     "base_uri": "https://localhost:8080/",
     "height": 34
    },
    "id": "FzDQOd2bJCdP",
    "outputId": "e5a5e6f9-26da-4901-82b8-1fbd6a47baf7"
   },
   "outputs": [],
   "source": [
    "9 / 2 # división"
   ]
  },
  {
   "cell_type": "code",
   "execution_count": null,
   "metadata": {
    "colab": {
     "base_uri": "https://localhost:8080/",
     "height": 34
    },
    "id": "BtpnZ0F_JCdT",
    "outputId": "e9509e56-9761-43a7-faa4-68fa56c8c3e2"
   },
   "outputs": [],
   "source": [
    "7 // 3 # división entera "
   ]
  },
  {
   "cell_type": "code",
   "execution_count": null,
   "metadata": {
    "colab": {
     "base_uri": "https://localhost:8080/",
     "height": 34
    },
    "id": "LgStdX6kJCdY",
    "outputId": "e84fc38e-7d67-43af-d458-5077353c6b85"
   },
   "outputs": [],
   "source": [
    "5 % 2 # módulo o resto"
   ]
  },
  {
   "cell_type": "code",
   "execution_count": null,
   "metadata": {
    "colab": {
     "base_uri": "https://localhost:8080/",
     "height": 34
    },
    "id": "Z6mXPNI5ITpi",
    "outputId": "4d5bfa1f-bcd9-4389-8e4f-6ed63e746d7b"
   },
   "outputs": [],
   "source": [
    "4 ** 2 # potencia "
   ]
  },
  {
   "cell_type": "markdown",
   "metadata": {
    "id": "gnFNaQwlJCdd"
   },
   "source": [
    "### Operadores Relacionales\n",
    "Los valores booleanos son el resultado de expresiones que utilizan operadores relacionales (comparaciones entre valores)"
   ]
  },
  {
   "cell_type": "code",
   "execution_count": null,
   "metadata": {
    "colab": {
     "base_uri": "https://localhost:8080/",
     "height": 34
    },
    "id": "6O92NCChJCde",
    "outputId": "4115d300-8f25-4044-d33d-226c5a50d8aa"
   },
   "outputs": [],
   "source": [
    "5 == 3 # igualdad"
   ]
  },
  {
   "cell_type": "code",
   "execution_count": null,
   "metadata": {
    "colab": {
     "base_uri": "https://localhost:8080/",
     "height": 34
    },
    "id": "W2tluAN6JCdl",
    "outputId": "b59f70ad-7fe9-4a5b-ec76-c4fa71329455"
   },
   "outputs": [],
   "source": [
    "\"perro\" == \"perro\""
   ]
  },
  {
   "cell_type": "code",
   "execution_count": null,
   "metadata": {
    "colab": {
     "base_uri": "https://localhost:8080/",
     "height": 34
    },
    "id": "ndI3A6svJCdp",
    "outputId": "413091c5-853c-48fb-90b1-5d3927c73148"
   },
   "outputs": [],
   "source": [
    "2 != 3 # distinto"
   ]
  },
  {
   "cell_type": "code",
   "execution_count": null,
   "metadata": {
    "colab": {
     "base_uri": "https://localhost:8080/",
     "height": 34
    },
    "id": "9NcZoXlUJCds",
    "outputId": "1427bd9c-4ceb-4ecf-f587-e12f5cde84aa"
   },
   "outputs": [],
   "source": [
    "7 < 4 # menor"
   ]
  },
  {
   "cell_type": "code",
   "execution_count": null,
   "metadata": {
    "colab": {
     "base_uri": "https://localhost:8080/",
     "height": 34
    },
    "id": "ZkeIjlcyJCdw",
    "outputId": "88c4115f-4daf-4660-83eb-bbbe111be599"
   },
   "outputs": [],
   "source": [
    "5 > 3 # mayor"
   ]
  },
  {
   "cell_type": "code",
   "execution_count": null,
   "metadata": {
    "colab": {
     "base_uri": "https://localhost:8080/",
     "height": 34
    },
    "id": "pCo4FQ0rJCd0",
    "outputId": "077c8850-b95e-417f-fd9f-82953d669b6e"
   },
   "outputs": [],
   "source": [
    "10 <= 25 # menor o igual"
   ]
  },
  {
   "cell_type": "code",
   "execution_count": null,
   "metadata": {
    "colab": {
     "base_uri": "https://localhost:8080/",
     "height": 34
    },
    "id": "tK-q73xdJCd5",
    "outputId": "2d2ae9a6-8064-4ef7-db14-1d58649d1d5a"
   },
   "outputs": [],
   "source": [
    "8 >= 12 # mayor o igual"
   ]
  },
  {
   "cell_type": "code",
   "execution_count": null,
   "metadata": {
    "colab": {
     "base_uri": "https://localhost:8080/",
     "height": 34
    },
    "id": "QPNmKqhPJMNQ",
    "outputId": "2f98f761-467a-4484-ab93-2cb4dc199a5f"
   },
   "outputs": [],
   "source": [
    "not False # negación"
   ]
  },
  {
   "cell_type": "code",
   "execution_count": null,
   "metadata": {
    "colab": {
     "base_uri": "https://localhost:8080/",
     "height": 34
    },
    "id": "Zwka0lACJSrO",
    "outputId": "2f40b5d8-41cd-4249-b571-bf71d190c3ec"
   },
   "outputs": [],
   "source": [
    "not (\"Hola\"==\"Hola\") # negación"
   ]
  },
  {
   "cell_type": "code",
   "execution_count": null,
   "metadata": {
    "colab": {
     "base_uri": "https://localhost:8080/",
     "height": 34
    },
    "id": "LcoNctJxJyix",
    "outputId": "57d6c0e7-9a00-4cf1-9e81-21a8874f06a0"
   },
   "outputs": [],
   "source": [
    "# conjunción\n",
    "a = 1\n",
    "b = 2\n",
    "\n",
    "a == 1 and b > a"
   ]
  },
  {
   "cell_type": "code",
   "execution_count": null,
   "metadata": {
    "colab": {
     "base_uri": "https://localhost:8080/",
     "height": 34
    },
    "id": "b6imxFqmKJgQ",
    "outputId": "13cb2264-9f9c-4289-ee51-ff31c08ce18c"
   },
   "outputs": [],
   "source": [
    "# disjunción\n",
    "3 > 4 or 3 >2"
   ]
  },
  {
   "cell_type": "markdown",
   "metadata": {
    "id": "2MuByqc_K27m"
   },
   "source": [
    "### Estructuras de Datos\n",
    "Dos tipos de datos muy usados en Python son las listas (list) y los diccionarios (dict). Ambos son útiles para coleccionar valores de todo tipo.\n",
    "#### Listas\n",
    "Las listas son contenedores que contienen diferentes objetos y se crean utilizando corchetes"
   ]
  },
  {
   "cell_type": "code",
   "execution_count": null,
   "metadata": {
    "colab": {
     "base_uri": "https://localhost:8080/",
     "height": 34
    },
    "id": "QAewFQQOLkbS",
    "outputId": "17121237-0338-4366-ec5c-b2d58ef8d0dd"
   },
   "outputs": [],
   "source": [
    "lista = [1,2,3,'Las listas pueden contener strings',['y también','otras listas']]\n",
    "\n",
    "lista # muestra todos los elementos de la lista"
   ]
  },
  {
   "cell_type": "markdown",
   "metadata": {
    "id": "rdk6SkM7Lz_s"
   },
   "source": [
    "#### Obtener el tamaño de la lista"
   ]
  },
  {
   "cell_type": "code",
   "execution_count": null,
   "metadata": {
    "colab": {
     "base_uri": "https://localhost:8080/",
     "height": 34
    },
    "id": "4Jb8vGQCMAiM",
    "outputId": "aeb06732-2e72-4ff4-936d-48dbaac8b59b"
   },
   "outputs": [],
   "source": [
    "len(lista)"
   ]
  },
  {
   "cell_type": "markdown",
   "metadata": {
    "id": "pTywxigMMEqa"
   },
   "source": [
    "#### Seleccionar elementos\n",
    "Los elementos de una lista se acceden por índice, los diccionarios por nombre de la clave"
   ]
  },
  {
   "cell_type": "code",
   "execution_count": null,
   "metadata": {
    "colab": {
     "base_uri": "https://localhost:8080/",
     "height": 34
    },
    "id": "5pAojAtXM2zm",
    "outputId": "63af32d4-0da5-4ea5-a09d-2d72fd0b3d1f"
   },
   "outputs": [],
   "source": [
    "# En python se empieza a contar desde 0\n",
    "print(lista[0]) "
   ]
  },
  {
   "cell_type": "code",
   "execution_count": null,
   "metadata": {
    "colab": {
     "base_uri": "https://localhost:8080/",
     "height": 34
    },
    "id": "-I6U3rZxMJkm",
    "outputId": "cdf01b13-0e08-42a9-f2ab-21c5d81f0a46"
   },
   "outputs": [],
   "source": [
    "# Como vemos, al poner 2, se selecciona el tercer elemento.\n",
    "print(lista[2]) "
   ]
  },
  {
   "cell_type": "markdown",
   "metadata": {
    "id": "nTeSJEwDNXff"
   },
   "source": [
    "Si quiero seleccionar más de un elemento, debo poner un *slice*. Los slices me indican el rango de elementos que voy a seleccionar, separando por **:** los límites de la selección. El límite inferior está incluido, mientras que el superior no."
   ]
  },
  {
   "cell_type": "code",
   "execution_count": null,
   "metadata": {
    "colab": {
     "base_uri": "https://localhost:8080/",
     "height": 34
    },
    "id": "o05f8n7ONOah",
    "outputId": "9dbd2472-cf13-4b94-8004-fa21efb225f4"
   },
   "outputs": [],
   "source": [
    "lista[2:4]"
   ]
  },
  {
   "cell_type": "markdown",
   "metadata": {
    "id": "l97kvBBvN2nj"
   },
   "source": [
    "Si quiero todos los elementos a partir de un índice dejo en blanco a la derecha de :"
   ]
  },
  {
   "cell_type": "code",
   "execution_count": null,
   "metadata": {
    "colab": {
     "base_uri": "https://localhost:8080/",
     "height": 34
    },
    "id": "QLl3y7MsN424",
    "outputId": "bed9939f-bd7e-4c85-b8d0-c1cce5b9bdac"
   },
   "outputs": [],
   "source": [
    "lista[3:]"
   ]
  },
  {
   "cell_type": "markdown",
   "metadata": {
    "id": "weBHKwiAN-Xb"
   },
   "source": [
    "Si quiero todos los elementos hasta cierto índice, dejo en blanco a la izquierda de : y a la derecha escribo el índice siguiente"
   ]
  },
  {
   "cell_type": "code",
   "execution_count": null,
   "metadata": {
    "colab": {
     "base_uri": "https://localhost:8080/",
     "height": 34
    },
    "id": "Opz684LyN_zA",
    "outputId": "5d1dedb6-161e-4044-9c8f-386f60f1ccfc"
   },
   "outputs": [],
   "source": [
    "lista[:3]"
   ]
  },
  {
   "cell_type": "markdown",
   "metadata": {
    "id": "oKPK9jUdOLnl"
   },
   "source": [
    "Puedo indicar elementos desde el último poniendo los índices en signo negativo, correspondiéndole al último elemento el índice -1"
   ]
  },
  {
   "cell_type": "code",
   "execution_count": null,
   "metadata": {
    "colab": {
     "base_uri": "https://localhost:8080/",
     "height": 34
    },
    "id": "BgmMy7hXOMnj",
    "outputId": "069d43b4-e444-4101-b023-991c87b4e877"
   },
   "outputs": [],
   "source": [
    "lista[-1]"
   ]
  },
  {
   "cell_type": "code",
   "execution_count": null,
   "metadata": {
    "colab": {
     "base_uri": "https://localhost:8080/",
     "height": 34
    },
    "id": "McGkZ49wOQcD",
    "outputId": "cc6d6b44-1477-413c-9213-52c4c66476c0"
   },
   "outputs": [],
   "source": [
    "lista[-2]"
   ]
  },
  {
   "cell_type": "code",
   "execution_count": null,
   "metadata": {
    "colab": {
     "base_uri": "https://localhost:8080/",
     "height": 34
    },
    "id": "X9_a3skpOTY1",
    "outputId": "c1fc630c-90a1-4582-d22e-9df1c37fd289"
   },
   "outputs": [],
   "source": [
    "lista[-3:-1]"
   ]
  },
  {
   "cell_type": "markdown",
   "metadata": {
    "id": "zlynUXXvOcqY"
   },
   "source": [
    "Si quiero cambiar el orden de la lista, agrego un nuevo **:** en el slicing y pongo -1"
   ]
  },
  {
   "cell_type": "code",
   "execution_count": null,
   "metadata": {
    "colab": {
     "base_uri": "https://localhost:8080/",
     "height": 34
    },
    "id": "o5XIAsNrOhRM",
    "outputId": "d2788604-3a71-455a-9121-c1d97557d945"
   },
   "outputs": [],
   "source": [
    "lista[3:0:-1]"
   ]
  },
  {
   "cell_type": "markdown",
   "metadata": {
    "id": "FxYRbrBHOyDo"
   },
   "source": [
    "Lo cual también sirve para saltear elementos"
   ]
  },
  {
   "cell_type": "code",
   "execution_count": null,
   "metadata": {
    "colab": {
     "base_uri": "https://localhost:8080/",
     "height": 34
    },
    "id": "IWRU3xnuOzA6",
    "outputId": "e56e3b3c-8626-43a8-9c5a-e87ca5ca939b"
   },
   "outputs": [],
   "source": [
    "lista[::2]"
   ]
  },
  {
   "cell_type": "markdown",
   "metadata": {
    "id": "nuaMgGz5PHPV"
   },
   "source": [
    "#### Buscar elementos\n",
    "Traer el índice del primer elemento que coincida con algo que buscamos"
   ]
  },
  {
   "cell_type": "code",
   "execution_count": null,
   "metadata": {
    "colab": {
     "base_uri": "https://localhost:8080/",
     "height": 34
    },
    "id": "EcLX9nL1POtx",
    "outputId": "b2d2e079-15b4-4e68-e6a3-913560906196"
   },
   "outputs": [],
   "source": [
    "lista.index(3)"
   ]
  },
  {
   "cell_type": "code",
   "execution_count": null,
   "metadata": {
    "colab": {
     "base_uri": "https://localhost:8080/",
     "height": 162
    },
    "id": "QC1nFD_9PRFP",
    "outputId": "76eb4ad4-3c8f-4ad4-fdff-85c892502912"
   },
   "outputs": [],
   "source": [
    "lista.index(5) # Nos dará error porque el elemento no está en la lista"
   ]
  },
  {
   "cell_type": "markdown",
   "metadata": {
    "id": "Pn52Ga8hPmFW"
   },
   "source": [
    "Comprobar si un elemento está en la lista"
   ]
  },
  {
   "cell_type": "code",
   "execution_count": null,
   "metadata": {
    "colab": {
     "base_uri": "https://localhost:8080/",
     "height": 34
    },
    "id": "gaOJlCe6PnMM",
    "outputId": "6458220e-2d39-4920-af3d-8d98d3b22fc7"
   },
   "outputs": [],
   "source": [
    "3 in lista"
   ]
  },
  {
   "cell_type": "code",
   "execution_count": null,
   "metadata": {
    "colab": {
     "base_uri": "https://localhost:8080/",
     "height": 34
    },
    "id": "wwH7x3JzPoxI",
    "outputId": "e5e86333-9b01-4354-e485-81d22f11a5c6"
   },
   "outputs": [],
   "source": [
    "5 in lista"
   ]
  },
  {
   "cell_type": "markdown",
   "metadata": {
    "id": "8YMsep-WPwt6"
   },
   "source": [
    "#### Modificar elementos"
   ]
  },
  {
   "cell_type": "code",
   "execution_count": null,
   "metadata": {
    "colab": {
     "base_uri": "https://localhost:8080/",
     "height": 34
    },
    "id": "GwjB_0o8P6jJ",
    "outputId": "c8b184b8-a8ad-4f4d-fbc8-97f51b736e46"
   },
   "outputs": [],
   "source": [
    "lista[0]=10\n",
    "\n",
    "lista"
   ]
  },
  {
   "cell_type": "markdown",
   "metadata": {
    "id": "pKa0yq87QCDl"
   },
   "source": [
    "#### Agregar elementos"
   ]
  },
  {
   "cell_type": "code",
   "execution_count": null,
   "metadata": {
    "colab": {
     "base_uri": "https://localhost:8080/",
     "height": 118
    },
    "id": "Vsz7PyRJQE3B",
    "outputId": "4e071570-2603-478c-ca13-fff216ab00c7"
   },
   "outputs": [],
   "source": [
    "lista.append('elemento agregado')\n",
    "\n",
    "lista"
   ]
  },
  {
   "cell_type": "markdown",
   "metadata": {
    "id": "rkC_KEb_QMnv"
   },
   "source": [
    "#### Eliminar elementos\n",
    "El método pop elimina el último elemento y lo muesta"
   ]
  },
  {
   "cell_type": "code",
   "execution_count": null,
   "metadata": {
    "colab": {
     "base_uri": "https://localhost:8080/",
     "height": 118
    },
    "id": "gK4zHsimQSFQ",
    "outputId": "d66db6ca-2c29-4774-bb0a-bcdfadb62f64"
   },
   "outputs": [],
   "source": [
    "lista"
   ]
  },
  {
   "cell_type": "code",
   "execution_count": null,
   "metadata": {
    "colab": {
     "base_uri": "https://localhost:8080/",
     "height": 34
    },
    "id": "iti2MUcDQU38",
    "outputId": "f3de3b34-b880-4691-c3f6-d6131c0f3951"
   },
   "outputs": [],
   "source": [
    "lista.pop()"
   ]
  },
  {
   "cell_type": "code",
   "execution_count": null,
   "metadata": {
    "colab": {
     "base_uri": "https://localhost:8080/",
     "height": 34
    },
    "id": "YKwAvl4KQWYi",
    "outputId": "6e5bbbcc-b278-4dcc-a3e4-e96c6941b4b7"
   },
   "outputs": [],
   "source": [
    "lista"
   ]
  },
  {
   "cell_type": "markdown",
   "metadata": {
    "id": "RkMfdyzxQuWI"
   },
   "source": [
    "Se pueden eliminar elementos por índice"
   ]
  },
  {
   "cell_type": "code",
   "execution_count": null,
   "metadata": {
    "colab": {
     "base_uri": "https://localhost:8080/",
     "height": 34
    },
    "id": "xZXdWpQ1QvNW",
    "outputId": "c790ed2d-693d-45b4-af3d-9f04886e90f7"
   },
   "outputs": [],
   "source": [
    "del lista[1]\n",
    "\n",
    "lista"
   ]
  },
  {
   "cell_type": "markdown",
   "metadata": {
    "id": "QYrXeWz4Q1Ky"
   },
   "source": [
    "Se pueden elminar elementos de algún valor en particular"
   ]
  },
  {
   "cell_type": "code",
   "execution_count": null,
   "metadata": {
    "colab": {
     "base_uri": "https://localhost:8080/",
     "height": 34
    },
    "id": "e9hbVe5mQ2TH",
    "outputId": "3d6823f7-ad2c-4281-9cb3-ee3d46977d58"
   },
   "outputs": [],
   "source": [
    "lista.remove(3)\n",
    "\n",
    "lista"
   ]
  },
  {
   "cell_type": "markdown",
   "metadata": {
    "id": "XCNqNVT_Q_GQ"
   },
   "source": [
    "#### Concatenar listas\n",
    "Para concatenar listas, creando una nueva lista, se usa el símbolo +"
   ]
  },
  {
   "cell_type": "code",
   "execution_count": null,
   "metadata": {
    "colab": {
     "base_uri": "https://localhost:8080/",
     "height": 118
    },
    "id": "x_9vAb5bRKZA",
    "outputId": "32e85ba0-c0b0-4881-cc7b-546d3d045d16"
   },
   "outputs": [],
   "source": [
    "lista + [20,30,50]"
   ]
  },
  {
   "cell_type": "code",
   "execution_count": null,
   "metadata": {
    "id": "dyld7C4JROwq"
   },
   "outputs": [],
   "source": [
    "#En caso de querer incorporar los elementos a la lista"
   ]
  },
  {
   "cell_type": "code",
   "execution_count": null,
   "metadata": {
    "colab": {
     "base_uri": "https://localhost:8080/",
     "height": 101
    },
    "id": "XL3FUUlQRPla",
    "outputId": "24e217db-c01d-45ab-ca93-446eba8c8c28"
   },
   "outputs": [],
   "source": [
    "lista.extend(['agrego esto','y esto'])\n",
    "\n",
    "lista"
   ]
  },
  {
   "cell_type": "markdown",
   "metadata": {
    "id": "dLJrHa_3RVLa"
   },
   "source": [
    "Multiplicar una lista por un escalar concatena la lista con sí misma esa cantidad de veces"
   ]
  },
  {
   "cell_type": "code",
   "execution_count": null,
   "metadata": {
    "colab": {
     "base_uri": "https://localhost:8080/",
     "height": 269
    },
    "id": "n5kGIS_4RV6I",
    "outputId": "33aaf6e1-fabf-46c4-a963-681cf54c19a2"
   },
   "outputs": [],
   "source": [
    "lista * 3"
   ]
  },
  {
   "cell_type": "markdown",
   "metadata": {
    "id": "92Sf57dcRoee"
   },
   "source": [
    "#### Tuplas\n",
    "Las tuplas son como las listas pero sus elementos son inmutables. Para crear una, se deben agregar los elementos entre ()"
   ]
  },
  {
   "cell_type": "code",
   "execution_count": null,
   "metadata": {
    "colab": {
     "base_uri": "https://localhost:8080/",
     "height": 34
    },
    "id": "UtS3EN_QRwI_",
    "outputId": "02025f91-5532-4647-ba65-775ea86a9702"
   },
   "outputs": [],
   "source": [
    "tupla = (1,2,3,4)\n",
    "\n",
    "tupla"
   ]
  },
  {
   "cell_type": "code",
   "execution_count": null,
   "metadata": {
    "colab": {
     "base_uri": "https://localhost:8080/",
     "height": 195
    },
    "id": "D4nF8xDVR6FL",
    "outputId": "89ef6994-7a7a-4e50-cec9-8f268e31abf2"
   },
   "outputs": [],
   "source": [
    "tupla[1] = 20"
   ]
  },
  {
   "cell_type": "code",
   "execution_count": null,
   "metadata": {},
   "outputs": [],
   "source": [
    "tupla.append(20)"
   ]
  },
  {
   "cell_type": "markdown",
   "metadata": {
    "id": "H3GA0mnZSLF9"
   },
   "source": [
    "#### Diccionarios\n",
    "Los diccionarios son una estructura de pares *clave : valor* e indexan por clave. No es posible referenciar a un elemento por posición. \n",
    "\n",
    "Se generan poniendo la clave valor entre { }"
   ]
  },
  {
   "cell_type": "code",
   "execution_count": null,
   "metadata": {
    "colab": {
     "base_uri": "https://localhost:8080/",
     "height": 34
    },
    "id": "2WNnSRV6Se00",
    "outputId": "b87b4a48-a22f-4c67-80d3-f51719144a0b"
   },
   "outputs": [],
   "source": [
    "diccionarioVacio = {}\n",
    "\n",
    "diccionarioVacio"
   ]
  },
  {
   "cell_type": "code",
   "execution_count": null,
   "metadata": {
    "colab": {
     "base_uri": "https://localhost:8080/",
     "height": 67
    },
    "id": "54vFonTBS1ji",
    "outputId": "ac852242-558b-4b7a-a4e7-769b49d02b60"
   },
   "outputs": [],
   "source": [
    "curso = {'nombre':'Criptografia',\n",
    "        'cantidad de clases':15,\n",
    "        'profesores':['Jorge','Martin','Valeria', 'Alejandro']}\n",
    "\n",
    "curso"
   ]
  },
  {
   "cell_type": "markdown",
   "metadata": {
    "id": "Z4KaELB3TJPX"
   },
   "source": [
    "La impresión no necesariamente es en el orden en el cual fue creado.\n",
    "Para invocar a un elemento del diccionario, se llama a la clave entre [ ]"
   ]
  },
  {
   "cell_type": "code",
   "execution_count": null,
   "metadata": {
    "colab": {
     "base_uri": "https://localhost:8080/",
     "height": 34
    },
    "id": "K-Qi0Wv7TXQZ",
    "outputId": "5f864e32-d6f6-457b-cb3d-d599bc35f95e"
   },
   "outputs": [],
   "source": [
    "curso['nombre']"
   ]
  },
  {
   "cell_type": "code",
   "execution_count": null,
   "metadata": {
    "colab": {
     "base_uri": "https://localhost:8080/",
     "height": 84
    },
    "id": "krA3_KpKTseN",
    "outputId": "6a8b1ab9-b57c-4c92-e4b7-401882b3bd67"
   },
   "outputs": [],
   "source": [
    "curso['dias de cursada']='lunes' # agregamos un elemento al diccionario\n",
    "\n",
    "curso"
   ]
  },
  {
   "cell_type": "markdown",
   "metadata": {
    "id": "aRKWjrMlVcmC"
   },
   "source": [
    "### Texto\n",
    "Python tiene la particularidad de poder tratar los strings como tuplas."
   ]
  },
  {
   "cell_type": "code",
   "execution_count": null,
   "metadata": {
    "colab": {
     "base_uri": "https://localhost:8080/",
     "height": 34
    },
    "id": "aKdBpVhSVmi4",
    "outputId": "bcd02f53-58d6-4608-a637-63646f51e731"
   },
   "outputs": [],
   "source": [
    "texto = \"esta es una cadena de texto\"\n",
    "texto"
   ]
  },
  {
   "cell_type": "code",
   "execution_count": null,
   "metadata": {
    "colab": {
     "base_uri": "https://localhost:8080/",
     "height": 178
    },
    "id": "aDk_ZizjmW1H",
    "outputId": "903291b2-9ea8-4487-ea34-6bc282d0958c"
   },
   "outputs": [],
   "source": [
    "# Como toda tupla son inmutables\n",
    "texto[1]=\"n\""
   ]
  },
  {
   "cell_type": "code",
   "execution_count": null,
   "metadata": {
    "colab": {
     "base_uri": "https://localhost:8080/",
     "height": 34
    },
    "id": "lIRHLOsfmm6e",
    "outputId": "f63e2e13-2225-4890-aa49-0b36f8eb35ad"
   },
   "outputs": [],
   "source": [
    "# Si queremos que sean mutables, tenemos que convertirlas a lista\n",
    "texto_list = list(texto)\n",
    "texto_list[0] = \"o\"\n",
    "\n",
    "# Ahora la volvemos a convertir a string\n",
    "\"\".join(texto_list)"
   ]
  },
  {
   "cell_type": "code",
   "execution_count": null,
   "metadata": {
    "colab": {
     "base_uri": "https://localhost:8080/",
     "height": 34
    },
    "id": "jn9fpfDbV8r6",
    "outputId": "550003c5-9ab1-4bbf-d68d-1c05a0d54209"
   },
   "outputs": [],
   "source": [
    "texto[:3] # buscar una subcadena de texto"
   ]
  },
  {
   "cell_type": "code",
   "execution_count": null,
   "metadata": {
    "colab": {
     "base_uri": "https://localhost:8080/",
     "height": 34
    },
    "id": "2neIr0oIWBSd",
    "outputId": "15aa85be-cc56-4f10-ec7a-09fd7d4699fb"
   },
   "outputs": [],
   "source": [
    "texto[7:11] # buscar una subcadena de texto"
   ]
  },
  {
   "cell_type": "markdown",
   "metadata": {
    "id": "j6MhTThOWkdL"
   },
   "source": [
    "#### Algunos métodos de los strings"
   ]
  },
  {
   "cell_type": "code",
   "execution_count": null,
   "metadata": {
    "colab": {
     "base_uri": "https://localhost:8080/",
     "height": 34
    },
    "id": "WPg-PVCDWpN_",
    "outputId": "9e0261f2-58bd-49cd-d748-2338bea664ca"
   },
   "outputs": [],
   "source": [
    "texto.upper()"
   ]
  },
  {
   "cell_type": "code",
   "execution_count": null,
   "metadata": {
    "colab": {
     "base_uri": "https://localhost:8080/",
     "height": 34
    },
    "id": "KV1o4z05WrCl",
    "outputId": "81081caa-1ce0-4aac-8ee3-c487936e1ec4"
   },
   "outputs": [],
   "source": [
    "texto.lower()"
   ]
  },
  {
   "cell_type": "code",
   "execution_count": null,
   "metadata": {
    "colab": {
     "base_uri": "https://localhost:8080/",
     "height": 34
    },
    "id": "a6gYbPe5WtY3",
    "outputId": "6604b565-e9cb-4d0f-d622-a55f9e3acfae"
   },
   "outputs": [],
   "source": [
    "texto.split(' ')"
   ]
  },
  {
   "cell_type": "markdown",
   "metadata": {
    "id": "hg_hONP1Xjbm"
   },
   "source": [
    "### Condicionales\n",
    "Para hacer un condicional, se debe poner **if**, la **condición**, luego **:** , identado en la línea siguiente lo que debe ejecutarse si se cumple la condición."
   ]
  },
  {
   "cell_type": "code",
   "execution_count": null,
   "metadata": {
    "colab": {
     "base_uri": "https://localhost:8080/",
     "height": 34
    },
    "id": "l4Gp7TDMXqvp",
    "outputId": "8d94bf05-03d7-47b2-fc3c-1f150225cdb1"
   },
   "outputs": [],
   "source": [
    "numero = 5\n",
    "\n",
    "if numero < 4:\n",
    "  print('El número es menor que 4')\n",
    "elif numero < 6:\n",
    "  print('El número es menor que 6 pero mayor o igual a 4')\n",
    "else:\n",
    "  print('El número es mayor o igual a 6')"
   ]
  },
  {
   "cell_type": "markdown",
   "metadata": {
    "id": "NtNF8CnCYQsP"
   },
   "source": [
    "Hay otra estructura para cuando se debe sólo devolver un valor"
   ]
  },
  {
   "cell_type": "code",
   "execution_count": null,
   "metadata": {
    "colab": {
     "base_uri": "https://localhost:8080/",
     "height": 34
    },
    "id": "_GqAT8N3YSp1",
    "outputId": "0153994e-5f1a-4f59-81de-83ee5dd64f34"
   },
   "outputs": [],
   "source": [
    "'El numero es menor a 5' if numero <5 else 'El numero es mayor o igual a 5'"
   ]
  },
  {
   "cell_type": "markdown",
   "metadata": {
    "id": "rp3V8a5iYhF7"
   },
   "source": [
    "### Iteraciones\n",
    "**for loop**"
   ]
  },
  {
   "cell_type": "code",
   "execution_count": null,
   "metadata": {
    "colab": {
     "base_uri": "https://localhost:8080/",
     "height": 134
    },
    "id": "bYIFiTiuYnMt",
    "outputId": "690ebe40-1648-41e3-ec2f-6d34c1626815"
   },
   "outputs": [],
   "source": [
    "iterar = [1,2,3,4,5,6,7]\n",
    "\n",
    "for i in iterar:\n",
    "  print(2**i)"
   ]
  },
  {
   "cell_type": "markdown",
   "metadata": {
    "id": "bp5DQB2-YzaX"
   },
   "source": [
    "**while**"
   ]
  },
  {
   "cell_type": "code",
   "execution_count": null,
   "metadata": {
    "colab": {
     "base_uri": "https://localhost:8080/",
     "height": 151
    },
    "id": "K8b1sm90ZAmL",
    "outputId": "4b46d84c-d608-491d-ebd9-fb7951713887"
   },
   "outputs": [],
   "source": [
    "resultado = 1\n",
    "i = 0\n",
    "\n",
    "while resultado < 1000:\n",
    "  resultado = 3**i\n",
    "  i+=1 #Esto suma 1 a la variable i\n",
    "  print(resultado)"
   ]
  },
  {
   "cell_type": "markdown",
   "metadata": {
    "id": "XnJ_9o-rZVj7"
   },
   "source": [
    "**list comprehension**\n",
    "\n",
    "Es una forma de iterar sobre los valores de una lista y devolver una lista"
   ]
  },
  {
   "cell_type": "code",
   "execution_count": null,
   "metadata": {
    "colab": {
     "base_uri": "https://localhost:8080/",
     "height": 34
    },
    "id": "NcDsZ5bAZjxZ",
    "outputId": "1f67f032-c147-4fcc-e636-0cc16a07abb3"
   },
   "outputs": [],
   "source": [
    "lista = [1,2,3,4,5,6,7,8]\n",
    "\n",
    "[x**2 for x in lista]"
   ]
  },
  {
   "cell_type": "markdown",
   "metadata": {
    "id": "qjFJ_YZIZu3X"
   },
   "source": [
    "Se pueden agregar condiciones"
   ]
  },
  {
   "cell_type": "code",
   "execution_count": null,
   "metadata": {
    "colab": {
     "base_uri": "https://localhost:8080/",
     "height": 34
    },
    "id": "KkB6JiZjZvk1",
    "outputId": "c8ff1362-2a19-4802-ff26-d26695afe09b"
   },
   "outputs": [],
   "source": [
    "[x**2 for x in lista if x%2==0]"
   ]
  },
  {
   "cell_type": "code",
   "execution_count": null,
   "metadata": {
    "colab": {
     "base_uri": "https://localhost:8080/",
     "height": 34
    },
    "id": "0cniZGzsZxNm",
    "outputId": "8950a588-a04f-4bd3-dc56-5303c6c45429"
   },
   "outputs": [],
   "source": [
    "[x**2 if x%2==0 else -(x**2) for x in lista]"
   ]
  },
  {
   "cell_type": "markdown",
   "metadata": {
    "id": "MS3N9oBzaAlL"
   },
   "source": [
    "### Funciones\n",
    "Para definir una función se debe escribir **def**, **nombre de la función**, parámetros entre **()**, **:** y debajo identado lo que debe ejecutarse.\n",
    "\n",
    "En caso de devolverse un valor, se debe especificar lo que debe devolver con **return**."
   ]
  },
  {
   "cell_type": "code",
   "execution_count": null,
   "metadata": {
    "colab": {
     "base_uri": "https://localhost:8080/",
     "height": 118
    },
    "id": "4oKvQHLqaEot",
    "outputId": "1e2d446b-370b-4bb6-9cb7-272319c1c93c"
   },
   "outputs": [],
   "source": [
    "def imprimoCuadrados(x):\n",
    "  i=0\n",
    "  while i<=x:\n",
    "    print(i**2)\n",
    "    i+=1\n",
    "    \n",
    "imprimoCuadrados(5)"
   ]
  },
  {
   "cell_type": "code",
   "execution_count": null,
   "metadata": {
    "colab": {
     "base_uri": "https://localhost:8080/",
     "height": 34
    },
    "id": "FGukf6hOacdb",
    "outputId": "8a721bee-94d4-42d3-e68f-a7979f3726a4"
   },
   "outputs": [],
   "source": [
    "def pasoAMayusculaYSeparo(texto):\n",
    "  separado = texto.upper().split(' ')\n",
    "  return separado\n",
    "  \n",
    "pasoAMayusculaYSeparo('Este Ejemplo es malo')"
   ]
  },
  {
   "cell_type": "code",
   "execution_count": null,
   "metadata": {
    "colab": {
     "base_uri": "https://localhost:8080/",
     "height": 34
    },
    "id": "o1WKXTu8appz",
    "outputId": "eaa4ea29-0819-429a-c618-48379c9b437f"
   },
   "outputs": [],
   "source": [
    "def potencia(x,y):\n",
    "  return x**y\n",
    "\n",
    "potencia(3,2)"
   ]
  },
  {
   "cell_type": "markdown",
   "metadata": {
    "id": "yZvm7Hx_a2Hl"
   },
   "source": [
    "### Funciones lambda\n",
    "\n",
    "Las funciones lambda son funciones anónimas, por lo cual se pueden utilizar sin que persistan en memoria. Son funciones sin nombre.\n",
    "\n",
    "Se usan principalmente en combinacion con otras funciones como filter(), map() y reduce(). La sintaxis general es bastante simple:\n",
    "\n",
    "    lambda argument_list: expression\n",
    "La lista de argumentos consiste en una lista de argumentos separados por comas y la expresion es una expresion aritmetica usando estos argumentos.\n",
    "Podemos asignar la funcion a una variable para darle un nombre."
   ]
  },
  {
   "cell_type": "code",
   "execution_count": null,
   "metadata": {
    "colab": {
     "base_uri": "https://localhost:8080/",
     "height": 34
    },
    "id": "1LhXDSRTbAnD",
    "outputId": "1891c4b2-23e2-45f0-f9c9-df82576a40f0"
   },
   "outputs": [],
   "source": [
    "(lambda x:x[0:5])('Acá pongo un texto por ponerlo')"
   ]
  },
  {
   "cell_type": "code",
   "execution_count": null,
   "metadata": {
    "colab": {
     "base_uri": "https://localhost:8080/",
     "height": 34
    },
    "id": "pTjozv8vbDK1",
    "outputId": "10c1675f-60c5-41c7-c846-9a60eb270c6c"
   },
   "outputs": [],
   "source": [
    "(lambda x,y:x**y)(2,3)"
   ]
  },
  {
   "cell_type": "code",
   "execution_count": null,
   "metadata": {
    "colab": {
     "base_uri": "https://localhost:8080/",
     "height": 34
    },
    "id": "RiyuZF6xysQU",
    "outputId": "a49bd4ac-053f-4759-bef7-d1876b37eb25"
   },
   "outputs": [],
   "source": [
    "f = lambda x, y : x + y\n",
    "f(1,1)"
   ]
  },
  {
   "cell_type": "code",
   "execution_count": null,
   "metadata": {
    "colab": {
     "base_uri": "https://localhost:8080/",
     "height": 34
    },
    "id": "dG2JRevPyv23",
    "outputId": "addffc27-f12a-455e-b1c3-cf89a5dc96bc"
   },
   "outputs": [],
   "source": [
    "celsius = [39.2, 36.5, 37.3, 37.8]\n",
    "\n",
    "fahrenheit = list(map(lambda x: (float(9)/5)*x + 32, celsius))\n",
    "# La función map se usa para recorrer los elementos de la lista, en este caso celsius sobre la que se aplica la funcion lambda\n",
    "\n",
    "print(fahrenheit)"
   ]
  },
  {
   "cell_type": "markdown",
   "metadata": {},
   "source": [
    "### Importar módulos"
   ]
  },
  {
   "cell_type": "markdown",
   "metadata": {
    "id": "W9PGXwg0b-P-"
   },
   "source": [
    "Para invocar todo un módulo:"
   ]
  },
  {
   "cell_type": "code",
   "execution_count": null,
   "metadata": {
    "colab": {
     "base_uri": "https://localhost:8080/",
     "height": 34
    },
    "id": "NbG-s55ZcBtB",
    "outputId": "293c7ef9-fd2e-4ae6-a0ed-de5590d19426"
   },
   "outputs": [],
   "source": [
    "import math\n",
    "\n",
    "math.sqrt(9)"
   ]
  },
  {
   "cell_type": "markdown",
   "metadata": {
    "id": "l7BQc67QcZdi"
   },
   "source": [
    "Importado con un alias"
   ]
  },
  {
   "cell_type": "code",
   "execution_count": null,
   "metadata": {
    "colab": {
     "base_uri": "https://localhost:8080/",
     "height": 34
    },
    "id": "EQ5zHjApceM1",
    "outputId": "f0855c4e-e843-4d9a-a23d-3b4a6151de83"
   },
   "outputs": [],
   "source": [
    "import math as m\n",
    "\n",
    "m.sqrt(9)"
   ]
  },
  {
   "cell_type": "markdown",
   "metadata": {
    "id": "afFaNnjCckFd"
   },
   "source": [
    "Se pueden importar objetos particulares de los módulos."
   ]
  },
  {
   "cell_type": "code",
   "execution_count": null,
   "metadata": {
    "colab": {
     "base_uri": "https://localhost:8080/",
     "height": 34
    },
    "id": "gtuCORTMcmad",
    "outputId": "abdeb5f2-3317-4c9d-ecee-61c886d10e80"
   },
   "outputs": [],
   "source": [
    "from math import sqrt\n",
    "\n",
    "sqrt(25)"
   ]
  },
  {
   "cell_type": "markdown",
   "metadata": {},
   "source": [
    "## ¿Qué es Sage?\n",
    "[SageMath](https://www.sagemath.org/) (Sage para los amigos) es un motor de matemáticas open source. Lo podemos acceder mediante un lenguaje propio de Sage basado en Python. Para esto necesitamos setear el kernel del Jupyter Notebook en SageMath 9.0. Una vez seteado el kernel, tendremos acceso a algunas funciones nuevas específicas de Sage. Tenemos un tutorial completo en https://doc.sagemath.org/html/en/tutorial/index.html"
   ]
  },
  {
   "cell_type": "code",
   "execution_count": null,
   "metadata": {},
   "outputs": [],
   "source": [
    "# Hallar los factores de -2007\n",
    "factor(-2007)"
   ]
  },
  {
   "cell_type": "code",
   "execution_count": null,
   "metadata": {},
   "outputs": [],
   "source": [
    "# Podemos ver la documentación de cualquier función escribiendo el nombre seguido de un '?'\n",
    "factor?"
   ]
  },
  {
   "cell_type": "code",
   "execution_count": null,
   "metadata": {},
   "outputs": [],
   "source": []
  }
 ],
 "metadata": {
  "colab": {
   "collapsed_sections": [],
   "name": "Introduccion_a_Python_Pandas.ipynb",
   "provenance": []
  },
  "kernelspec": {
   "display_name": "Python 3",
   "language": "python",
   "name": "python3"
  },
  "language_info": {
   "codemirror_mode": {
    "name": "ipython",
    "version": 3
   },
   "file_extension": ".py",
   "mimetype": "text/x-python",
   "name": "python",
   "nbconvert_exporter": "python",
   "pygments_lexer": "ipython3",
   "version": "3.7.3"
  }
 },
 "nbformat": 4,
 "nbformat_minor": 1
}
